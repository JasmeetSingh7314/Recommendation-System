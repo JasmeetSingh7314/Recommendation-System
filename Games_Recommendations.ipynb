{
 "cells": [
  {
   "cell_type": "code",
   "execution_count": 1,
   "id": "a8dd2bb4-c677-4474-ad82-6579de38eb9f",
   "metadata": {},
   "outputs": [],
   "source": [
    "import numpy as np\n",
    "import pandas as pd\n",
    "import ast\n",
    "\n"
   ]
  },
  {
   "cell_type": "code",
   "execution_count": 2,
   "id": "7310ff3e-ba0e-4878-b93a-45c7bb31a934",
   "metadata": {},
   "outputs": [],
   "source": [
    "games=pd.read_csv('games_list.csv')"
   ]
  },
  {
   "cell_type": "code",
   "execution_count": 3,
   "id": "6507d485-a3e7-44a0-ad5b-22125a769590",
   "metadata": {},
   "outputs": [
    {
     "data": {
      "text/plain": [
       "id                  0\n",
       "genres/0/id       257\n",
       "genres/0/name     257\n",
       "genres/1/id       667\n",
       "genres/1/name     667\n",
       "genres/2/id      1208\n",
       "genres/2/name    1208\n",
       "name                0\n",
       "rating              0\n",
       "summary           200\n",
       "genres/3/id      1549\n",
       "genres/3/name    1549\n",
       "genres/4/id      1710\n",
       "genres/4/name    1710\n",
       "genres/5/id      1770\n",
       "genres/5/name    1770\n",
       "genres/6/id      1791\n",
       "genres/6/name    1791\n",
       "dtype: int64"
      ]
     },
     "execution_count": 3,
     "metadata": {},
     "output_type": "execute_result"
    }
   ],
   "source": [
    "games.isnull().sum()"
   ]
  },
  {
   "cell_type": "code",
   "execution_count": 4,
   "id": "6661af8c-9fbc-4162-a549-c4eb0bce8ac7",
   "metadata": {},
   "outputs": [],
   "source": [
    "games=games.drop(columns=['genres/0/id','genres/1/id','genres/2/id','genres/2/name','genres/3/id','genres/3/name','genres/4/id','genres/4/name','genres/5/id','genres/5/name','genres/6/id','genres/6/name'])"
   ]
  },
  {
   "cell_type": "code",
   "execution_count": 5,
   "id": "1ea315f4-ab41-4648-9fb8-9ce4406845a9",
   "metadata": {},
   "outputs": [
    {
     "data": {
      "text/html": [
       "<div>\n",
       "<style scoped>\n",
       "    .dataframe tbody tr th:only-of-type {\n",
       "        vertical-align: middle;\n",
       "    }\n",
       "\n",
       "    .dataframe tbody tr th {\n",
       "        vertical-align: top;\n",
       "    }\n",
       "\n",
       "    .dataframe thead th {\n",
       "        text-align: right;\n",
       "    }\n",
       "</style>\n",
       "<table border=\"1\" class=\"dataframe\">\n",
       "  <thead>\n",
       "    <tr style=\"text-align: right;\">\n",
       "      <th></th>\n",
       "      <th>id</th>\n",
       "      <th>genres/0/name</th>\n",
       "      <th>genres/1/name</th>\n",
       "      <th>name</th>\n",
       "      <th>rating</th>\n",
       "      <th>summary</th>\n",
       "    </tr>\n",
       "  </thead>\n",
       "  <tbody>\n",
       "    <tr>\n",
       "      <th>0</th>\n",
       "      <td>129797</td>\n",
       "      <td>Point-and-click</td>\n",
       "      <td>Real Time Strategy (RTS)</td>\n",
       "      <td>Age of Empires II: Gold Edition</td>\n",
       "      <td>88.750665</td>\n",
       "      <td>Age of Empires II Gold Edition unites the exci...</td>\n",
       "    </tr>\n",
       "    <tr>\n",
       "      <th>1</th>\n",
       "      <td>56951</td>\n",
       "      <td>Simulator</td>\n",
       "      <td>Strategy</td>\n",
       "      <td>War and Order</td>\n",
       "      <td>90.000000</td>\n",
       "      <td>A MMORPG for Mobile and Tablet users.</td>\n",
       "    </tr>\n",
       "    <tr>\n",
       "      <th>2</th>\n",
       "      <td>12586</td>\n",
       "      <td>Shooter</td>\n",
       "      <td>Platform</td>\n",
       "      <td>Exolon</td>\n",
       "      <td>88.361922</td>\n",
       "      <td>Si creías haber visto todo en video-aventuras ...</td>\n",
       "    </tr>\n",
       "    <tr>\n",
       "      <th>3</th>\n",
       "      <td>1934</td>\n",
       "      <td>Shooter</td>\n",
       "      <td>Simulator</td>\n",
       "      <td>Red Baron</td>\n",
       "      <td>86.523409</td>\n",
       "      <td>Experience the thrill of flying World War I bi...</td>\n",
       "    </tr>\n",
       "    <tr>\n",
       "      <th>4</th>\n",
       "      <td>86920</td>\n",
       "      <td>Strategy</td>\n",
       "      <td>NaN</td>\n",
       "      <td>Castles of Mad King Ludwig</td>\n",
       "      <td>90.000000</td>\n",
       "      <td>Castles of Mad King Ludwig, a castle-building ...</td>\n",
       "    </tr>\n",
       "    <tr>\n",
       "      <th>...</th>\n",
       "      <td>...</td>\n",
       "      <td>...</td>\n",
       "      <td>...</td>\n",
       "      <td>...</td>\n",
       "      <td>...</td>\n",
       "      <td>...</td>\n",
       "    </tr>\n",
       "    <tr>\n",
       "      <th>1788</th>\n",
       "      <td>1022</td>\n",
       "      <td>Adventure</td>\n",
       "      <td>NaN</td>\n",
       "      <td>The Legend of Zelda</td>\n",
       "      <td>80.396260</td>\n",
       "      <td>The Legend of Zelda is the first title in the ...</td>\n",
       "    </tr>\n",
       "    <tr>\n",
       "      <th>1789</th>\n",
       "      <td>123468</td>\n",
       "      <td>Simulator</td>\n",
       "      <td>Indie</td>\n",
       "      <td>Fun with Ragdolls: The Game</td>\n",
       "      <td>80.000000</td>\n",
       "      <td>Become a ragdoll and create your own environme...</td>\n",
       "    </tr>\n",
       "    <tr>\n",
       "      <th>1790</th>\n",
       "      <td>6998</td>\n",
       "      <td>Fighting</td>\n",
       "      <td>Racing</td>\n",
       "      <td>Full Auto</td>\n",
       "      <td>80.000000</td>\n",
       "      <td>Full Auto gives 'gun it' a whole new meaning. ...</td>\n",
       "    </tr>\n",
       "    <tr>\n",
       "      <th>1791</th>\n",
       "      <td>29552</td>\n",
       "      <td>Simulator</td>\n",
       "      <td>Indie</td>\n",
       "      <td>Nature Treks VR</td>\n",
       "      <td>80.000000</td>\n",
       "      <td>NEW: With the latest updates, you are now free...</td>\n",
       "    </tr>\n",
       "    <tr>\n",
       "      <th>1792</th>\n",
       "      <td>152354</td>\n",
       "      <td>Card &amp; Board Game</td>\n",
       "      <td>NaN</td>\n",
       "      <td>Mario Party Superstars</td>\n",
       "      <td>81.286379</td>\n",
       "      <td>Calling all Superstars! Mario Party is back wi...</td>\n",
       "    </tr>\n",
       "  </tbody>\n",
       "</table>\n",
       "<p>1793 rows × 6 columns</p>\n",
       "</div>"
      ],
      "text/plain": [
       "          id      genres/0/name             genres/1/name  \\\n",
       "0     129797    Point-and-click  Real Time Strategy (RTS)   \n",
       "1      56951          Simulator                  Strategy   \n",
       "2      12586            Shooter                  Platform   \n",
       "3       1934            Shooter                 Simulator   \n",
       "4      86920           Strategy                       NaN   \n",
       "...      ...                ...                       ...   \n",
       "1788    1022          Adventure                       NaN   \n",
       "1789  123468          Simulator                     Indie   \n",
       "1790    6998           Fighting                    Racing   \n",
       "1791   29552          Simulator                     Indie   \n",
       "1792  152354  Card & Board Game                       NaN   \n",
       "\n",
       "                                 name     rating  \\\n",
       "0     Age of Empires II: Gold Edition  88.750665   \n",
       "1                       War and Order  90.000000   \n",
       "2                              Exolon  88.361922   \n",
       "3                           Red Baron  86.523409   \n",
       "4          Castles of Mad King Ludwig  90.000000   \n",
       "...                               ...        ...   \n",
       "1788              The Legend of Zelda  80.396260   \n",
       "1789      Fun with Ragdolls: The Game  80.000000   \n",
       "1790                        Full Auto  80.000000   \n",
       "1791                  Nature Treks VR  80.000000   \n",
       "1792           Mario Party Superstars  81.286379   \n",
       "\n",
       "                                                summary  \n",
       "0     Age of Empires II Gold Edition unites the exci...  \n",
       "1                 A MMORPG for Mobile and Tablet users.  \n",
       "2     Si creías haber visto todo en video-aventuras ...  \n",
       "3     Experience the thrill of flying World War I bi...  \n",
       "4     Castles of Mad King Ludwig, a castle-building ...  \n",
       "...                                                 ...  \n",
       "1788  The Legend of Zelda is the first title in the ...  \n",
       "1789  Become a ragdoll and create your own environme...  \n",
       "1790  Full Auto gives 'gun it' a whole new meaning. ...  \n",
       "1791  NEW: With the latest updates, you are now free...  \n",
       "1792  Calling all Superstars! Mario Party is back wi...  \n",
       "\n",
       "[1793 rows x 6 columns]"
      ]
     },
     "execution_count": 5,
     "metadata": {},
     "output_type": "execute_result"
    }
   ],
   "source": [
    "games"
   ]
  },
  {
   "cell_type": "code",
   "execution_count": 6,
   "id": "0f4ebb9b-2c99-4b6f-b0d0-260e514e2383",
   "metadata": {},
   "outputs": [
    {
     "data": {
      "text/plain": [
       "id                 0\n",
       "genres/0/name    257\n",
       "genres/1/name    667\n",
       "name               0\n",
       "rating             0\n",
       "summary          200\n",
       "dtype: int64"
      ]
     },
     "execution_count": 6,
     "metadata": {},
     "output_type": "execute_result"
    }
   ],
   "source": [
    "games.isnull().sum()"
   ]
  },
  {
   "cell_type": "markdown",
   "id": "8596f0f0-4978-4140-9158-799b364d9a1a",
   "metadata": {},
   "source": [
    "## You can either use \n",
    " - dropna(inplace=True) to remove all NA fields\n",
    " - fillna(value) to instead keep and display something else"
   ]
  },
  {
   "cell_type": "code",
   "execution_count": 7,
   "id": "9d8d1ec2-72d4-40f1-8466-c2bfe97ea7fe",
   "metadata": {},
   "outputs": [],
   "source": [
    "games=games.fillna(\"0\")"
   ]
  },
  {
   "cell_type": "code",
   "execution_count": 8,
   "id": "dcb12052-48a4-4034-91d8-be3de67966ad",
   "metadata": {},
   "outputs": [],
   "source": [
    "games.drop_duplicates(subset=\"name\",keep=False, inplace=True)"
   ]
  },
  {
   "cell_type": "markdown",
   "id": "23fca4a6-edfe-4caf-a564-b80277028cbd",
   "metadata": {},
   "source": [
    "## Converting bare text into Lists for later mix"
   ]
  },
  {
   "cell_type": "code",
   "execution_count": 10,
   "id": "1325d942-88d5-4c61-93aa-c25e8da459cf",
   "metadata": {},
   "outputs": [],
   "source": [
    "def convert(x):\n",
    "    L=[]\n",
    "    if isinstance(x,str):\n",
    "      L.append(x)\n",
    "    else:\n",
    "        L.append(str(round(x)))\n",
    "    return L\n"
   ]
  },
  {
   "cell_type": "code",
   "execution_count": 11,
   "id": "41354b44-42d5-4733-94fe-250007b5c673",
   "metadata": {},
   "outputs": [
    {
     "data": {
      "text/plain": [
       "(1508, 6)"
      ]
     },
     "execution_count": 11,
     "metadata": {},
     "output_type": "execute_result"
    }
   ],
   "source": [
    "games.shape"
   ]
  },
  {
   "cell_type": "code",
   "execution_count": 12,
   "id": "fe03f58a-aa08-4136-93d5-a8598de867a1",
   "metadata": {},
   "outputs": [],
   "source": [
    "games['genres/0/name']=games['genres/0/name'].apply(convert)"
   ]
  },
  {
   "cell_type": "code",
   "execution_count": 13,
   "id": "3863d8d3-8513-4631-ada7-28bd771737d8",
   "metadata": {},
   "outputs": [],
   "source": [
    "games['genres/1/name']=games['genres/1/name'].apply(convert)"
   ]
  },
  {
   "cell_type": "code",
   "execution_count": 14,
   "id": "cf10eb8e-93cf-40f2-8d60-3d3d401c5d87",
   "metadata": {},
   "outputs": [],
   "source": [
    "games['rating']=games['rating'].apply(convert)"
   ]
  },
  {
   "cell_type": "markdown",
   "id": "526fa755-4855-41b2-bb86-26ffe363bfe1",
   "metadata": {},
   "source": [
    "## Removing all blank spaces"
   ]
  },
  {
   "cell_type": "code",
   "execution_count": 15,
   "id": "d2c55bc1-dcc0-4589-9315-53ec4522209d",
   "metadata": {},
   "outputs": [],
   "source": [
    "games['genres/0/name']=games['genres/0/name'].apply(lambda x: [i.replace(\" \",\"\") for i in x])\n",
    "games['genres/1/name']=games['genres/1/name'].apply(lambda x: [i.replace(\" \",\"\") for i in x])\n"
   ]
  },
  {
   "cell_type": "code",
   "execution_count": 16,
   "id": "d5364a97-f5c4-4ccd-a598-1d4dcc87c7f5",
   "metadata": {},
   "outputs": [],
   "source": [
    "games['genres']=games['genres/0/name']+games['genres/1/name']"
   ]
  },
  {
   "cell_type": "code",
   "execution_count": 17,
   "id": "6b922494-202a-48a7-9937-141dd1c4d4b1",
   "metadata": {},
   "outputs": [],
   "source": [
    "games=games.drop(columns=['genres/0/name','genres/1/name'])\n"
   ]
  },
  {
   "cell_type": "code",
   "execution_count": 18,
   "id": "16e41700-1aa4-42eb-b240-880a78364d3f",
   "metadata": {},
   "outputs": [],
   "source": [
    "games['summary']=games['summary'].apply(lambda x:x.split() if pd.notna(x) else x)"
   ]
  },
  {
   "cell_type": "code",
   "execution_count": 19,
   "id": "4a2cd268-ba6a-476a-a267-ed2cb64e5f07",
   "metadata": {},
   "outputs": [
    {
     "data": {
      "text/html": [
       "<div>\n",
       "<style scoped>\n",
       "    .dataframe tbody tr th:only-of-type {\n",
       "        vertical-align: middle;\n",
       "    }\n",
       "\n",
       "    .dataframe tbody tr th {\n",
       "        vertical-align: top;\n",
       "    }\n",
       "\n",
       "    .dataframe thead th {\n",
       "        text-align: right;\n",
       "    }\n",
       "</style>\n",
       "<table border=\"1\" class=\"dataframe\">\n",
       "  <thead>\n",
       "    <tr style=\"text-align: right;\">\n",
       "      <th></th>\n",
       "      <th>id</th>\n",
       "      <th>name</th>\n",
       "      <th>rating</th>\n",
       "      <th>summary</th>\n",
       "      <th>genres</th>\n",
       "    </tr>\n",
       "  </thead>\n",
       "  <tbody>\n",
       "    <tr>\n",
       "      <th>0</th>\n",
       "      <td>129797</td>\n",
       "      <td>Age of Empires II: Gold Edition</td>\n",
       "      <td>[89]</td>\n",
       "      <td>[Age, of, Empires, II, Gold, Edition, unites, ...</td>\n",
       "      <td>[Point-and-click, RealTimeStrategy(RTS)]</td>\n",
       "    </tr>\n",
       "    <tr>\n",
       "      <th>1</th>\n",
       "      <td>56951</td>\n",
       "      <td>War and Order</td>\n",
       "      <td>[90]</td>\n",
       "      <td>[A, MMORPG, for, Mobile, and, Tablet, users.]</td>\n",
       "      <td>[Simulator, Strategy]</td>\n",
       "    </tr>\n",
       "    <tr>\n",
       "      <th>2</th>\n",
       "      <td>12586</td>\n",
       "      <td>Exolon</td>\n",
       "      <td>[88]</td>\n",
       "      <td>[Si, creías, haber, visto, todo, en, video-ave...</td>\n",
       "      <td>[Shooter, Platform]</td>\n",
       "    </tr>\n",
       "    <tr>\n",
       "      <th>3</th>\n",
       "      <td>1934</td>\n",
       "      <td>Red Baron</td>\n",
       "      <td>[87]</td>\n",
       "      <td>[Experience, the, thrill, of, flying, World, W...</td>\n",
       "      <td>[Shooter, Simulator]</td>\n",
       "    </tr>\n",
       "    <tr>\n",
       "      <th>4</th>\n",
       "      <td>86920</td>\n",
       "      <td>Castles of Mad King Ludwig</td>\n",
       "      <td>[90]</td>\n",
       "      <td>[Castles, of, Mad, King, Ludwig,, a, castle-bu...</td>\n",
       "      <td>[Strategy, 0]</td>\n",
       "    </tr>\n",
       "    <tr>\n",
       "      <th>...</th>\n",
       "      <td>...</td>\n",
       "      <td>...</td>\n",
       "      <td>...</td>\n",
       "      <td>...</td>\n",
       "      <td>...</td>\n",
       "    </tr>\n",
       "    <tr>\n",
       "      <th>1788</th>\n",
       "      <td>1022</td>\n",
       "      <td>The Legend of Zelda</td>\n",
       "      <td>[80]</td>\n",
       "      <td>[The, Legend, of, Zelda, is, the, first, title...</td>\n",
       "      <td>[Adventure, 0]</td>\n",
       "    </tr>\n",
       "    <tr>\n",
       "      <th>1789</th>\n",
       "      <td>123468</td>\n",
       "      <td>Fun with Ragdolls: The Game</td>\n",
       "      <td>[80]</td>\n",
       "      <td>[Become, a, ragdoll, and, create, your, own, e...</td>\n",
       "      <td>[Simulator, Indie]</td>\n",
       "    </tr>\n",
       "    <tr>\n",
       "      <th>1790</th>\n",
       "      <td>6998</td>\n",
       "      <td>Full Auto</td>\n",
       "      <td>[80]</td>\n",
       "      <td>[Full, Auto, gives, 'gun, it', a, whole, new, ...</td>\n",
       "      <td>[Fighting, Racing]</td>\n",
       "    </tr>\n",
       "    <tr>\n",
       "      <th>1791</th>\n",
       "      <td>29552</td>\n",
       "      <td>Nature Treks VR</td>\n",
       "      <td>[80]</td>\n",
       "      <td>[NEW:, With, the, latest, updates,, you, are, ...</td>\n",
       "      <td>[Simulator, Indie]</td>\n",
       "    </tr>\n",
       "    <tr>\n",
       "      <th>1792</th>\n",
       "      <td>152354</td>\n",
       "      <td>Mario Party Superstars</td>\n",
       "      <td>[81]</td>\n",
       "      <td>[Calling, all, Superstars!, Mario, Party, is, ...</td>\n",
       "      <td>[Card&amp;BoardGame, 0]</td>\n",
       "    </tr>\n",
       "  </tbody>\n",
       "</table>\n",
       "<p>1508 rows × 5 columns</p>\n",
       "</div>"
      ],
      "text/plain": [
       "          id                             name rating  \\\n",
       "0     129797  Age of Empires II: Gold Edition   [89]   \n",
       "1      56951                    War and Order   [90]   \n",
       "2      12586                           Exolon   [88]   \n",
       "3       1934                        Red Baron   [87]   \n",
       "4      86920       Castles of Mad King Ludwig   [90]   \n",
       "...      ...                              ...    ...   \n",
       "1788    1022              The Legend of Zelda   [80]   \n",
       "1789  123468      Fun with Ragdolls: The Game   [80]   \n",
       "1790    6998                        Full Auto   [80]   \n",
       "1791   29552                  Nature Treks VR   [80]   \n",
       "1792  152354           Mario Party Superstars   [81]   \n",
       "\n",
       "                                                summary  \\\n",
       "0     [Age, of, Empires, II, Gold, Edition, unites, ...   \n",
       "1         [A, MMORPG, for, Mobile, and, Tablet, users.]   \n",
       "2     [Si, creías, haber, visto, todo, en, video-ave...   \n",
       "3     [Experience, the, thrill, of, flying, World, W...   \n",
       "4     [Castles, of, Mad, King, Ludwig,, a, castle-bu...   \n",
       "...                                                 ...   \n",
       "1788  [The, Legend, of, Zelda, is, the, first, title...   \n",
       "1789  [Become, a, ragdoll, and, create, your, own, e...   \n",
       "1790  [Full, Auto, gives, 'gun, it', a, whole, new, ...   \n",
       "1791  [NEW:, With, the, latest, updates,, you, are, ...   \n",
       "1792  [Calling, all, Superstars!, Mario, Party, is, ...   \n",
       "\n",
       "                                        genres  \n",
       "0     [Point-and-click, RealTimeStrategy(RTS)]  \n",
       "1                        [Simulator, Strategy]  \n",
       "2                          [Shooter, Platform]  \n",
       "3                         [Shooter, Simulator]  \n",
       "4                                [Strategy, 0]  \n",
       "...                                        ...  \n",
       "1788                            [Adventure, 0]  \n",
       "1789                        [Simulator, Indie]  \n",
       "1790                        [Fighting, Racing]  \n",
       "1791                        [Simulator, Indie]  \n",
       "1792                       [Card&BoardGame, 0]  \n",
       "\n",
       "[1508 rows x 5 columns]"
      ]
     },
     "execution_count": 19,
     "metadata": {},
     "output_type": "execute_result"
    }
   ],
   "source": [
    "games"
   ]
  },
  {
   "cell_type": "code",
   "execution_count": 20,
   "id": "5c8f3d5e-c97c-45a5-9a27-d606899ecdf0",
   "metadata": {},
   "outputs": [],
   "source": [
    "games['tags']=games['rating']+games['summary']+games['genres']"
   ]
  },
  {
   "cell_type": "code",
   "execution_count": 21,
   "id": "87cb9464-d192-4ca9-848a-63fc79986019",
   "metadata": {},
   "outputs": [
    {
     "data": {
      "text/html": [
       "<div>\n",
       "<style scoped>\n",
       "    .dataframe tbody tr th:only-of-type {\n",
       "        vertical-align: middle;\n",
       "    }\n",
       "\n",
       "    .dataframe tbody tr th {\n",
       "        vertical-align: top;\n",
       "    }\n",
       "\n",
       "    .dataframe thead th {\n",
       "        text-align: right;\n",
       "    }\n",
       "</style>\n",
       "<table border=\"1\" class=\"dataframe\">\n",
       "  <thead>\n",
       "    <tr style=\"text-align: right;\">\n",
       "      <th></th>\n",
       "      <th>id</th>\n",
       "      <th>name</th>\n",
       "      <th>rating</th>\n",
       "      <th>summary</th>\n",
       "      <th>genres</th>\n",
       "      <th>tags</th>\n",
       "    </tr>\n",
       "  </thead>\n",
       "  <tbody>\n",
       "    <tr>\n",
       "      <th>0</th>\n",
       "      <td>129797</td>\n",
       "      <td>Age of Empires II: Gold Edition</td>\n",
       "      <td>[89]</td>\n",
       "      <td>[Age, of, Empires, II, Gold, Edition, unites, ...</td>\n",
       "      <td>[Point-and-click, RealTimeStrategy(RTS)]</td>\n",
       "      <td>[89, Age, of, Empires, II, Gold, Edition, unit...</td>\n",
       "    </tr>\n",
       "    <tr>\n",
       "      <th>1</th>\n",
       "      <td>56951</td>\n",
       "      <td>War and Order</td>\n",
       "      <td>[90]</td>\n",
       "      <td>[A, MMORPG, for, Mobile, and, Tablet, users.]</td>\n",
       "      <td>[Simulator, Strategy]</td>\n",
       "      <td>[90, A, MMORPG, for, Mobile, and, Tablet, user...</td>\n",
       "    </tr>\n",
       "    <tr>\n",
       "      <th>2</th>\n",
       "      <td>12586</td>\n",
       "      <td>Exolon</td>\n",
       "      <td>[88]</td>\n",
       "      <td>[Si, creías, haber, visto, todo, en, video-ave...</td>\n",
       "      <td>[Shooter, Platform]</td>\n",
       "      <td>[88, Si, creías, haber, visto, todo, en, video...</td>\n",
       "    </tr>\n",
       "    <tr>\n",
       "      <th>3</th>\n",
       "      <td>1934</td>\n",
       "      <td>Red Baron</td>\n",
       "      <td>[87]</td>\n",
       "      <td>[Experience, the, thrill, of, flying, World, W...</td>\n",
       "      <td>[Shooter, Simulator]</td>\n",
       "      <td>[87, Experience, the, thrill, of, flying, Worl...</td>\n",
       "    </tr>\n",
       "    <tr>\n",
       "      <th>4</th>\n",
       "      <td>86920</td>\n",
       "      <td>Castles of Mad King Ludwig</td>\n",
       "      <td>[90]</td>\n",
       "      <td>[Castles, of, Mad, King, Ludwig,, a, castle-bu...</td>\n",
       "      <td>[Strategy, 0]</td>\n",
       "      <td>[90, Castles, of, Mad, King, Ludwig,, a, castl...</td>\n",
       "    </tr>\n",
       "    <tr>\n",
       "      <th>...</th>\n",
       "      <td>...</td>\n",
       "      <td>...</td>\n",
       "      <td>...</td>\n",
       "      <td>...</td>\n",
       "      <td>...</td>\n",
       "      <td>...</td>\n",
       "    </tr>\n",
       "    <tr>\n",
       "      <th>1788</th>\n",
       "      <td>1022</td>\n",
       "      <td>The Legend of Zelda</td>\n",
       "      <td>[80]</td>\n",
       "      <td>[The, Legend, of, Zelda, is, the, first, title...</td>\n",
       "      <td>[Adventure, 0]</td>\n",
       "      <td>[80, The, Legend, of, Zelda, is, the, first, t...</td>\n",
       "    </tr>\n",
       "    <tr>\n",
       "      <th>1789</th>\n",
       "      <td>123468</td>\n",
       "      <td>Fun with Ragdolls: The Game</td>\n",
       "      <td>[80]</td>\n",
       "      <td>[Become, a, ragdoll, and, create, your, own, e...</td>\n",
       "      <td>[Simulator, Indie]</td>\n",
       "      <td>[80, Become, a, ragdoll, and, create, your, ow...</td>\n",
       "    </tr>\n",
       "    <tr>\n",
       "      <th>1790</th>\n",
       "      <td>6998</td>\n",
       "      <td>Full Auto</td>\n",
       "      <td>[80]</td>\n",
       "      <td>[Full, Auto, gives, 'gun, it', a, whole, new, ...</td>\n",
       "      <td>[Fighting, Racing]</td>\n",
       "      <td>[80, Full, Auto, gives, 'gun, it', a, whole, n...</td>\n",
       "    </tr>\n",
       "    <tr>\n",
       "      <th>1791</th>\n",
       "      <td>29552</td>\n",
       "      <td>Nature Treks VR</td>\n",
       "      <td>[80]</td>\n",
       "      <td>[NEW:, With, the, latest, updates,, you, are, ...</td>\n",
       "      <td>[Simulator, Indie]</td>\n",
       "      <td>[80, NEW:, With, the, latest, updates,, you, a...</td>\n",
       "    </tr>\n",
       "    <tr>\n",
       "      <th>1792</th>\n",
       "      <td>152354</td>\n",
       "      <td>Mario Party Superstars</td>\n",
       "      <td>[81]</td>\n",
       "      <td>[Calling, all, Superstars!, Mario, Party, is, ...</td>\n",
       "      <td>[Card&amp;BoardGame, 0]</td>\n",
       "      <td>[81, Calling, all, Superstars!, Mario, Party, ...</td>\n",
       "    </tr>\n",
       "  </tbody>\n",
       "</table>\n",
       "<p>1508 rows × 6 columns</p>\n",
       "</div>"
      ],
      "text/plain": [
       "          id                             name rating  \\\n",
       "0     129797  Age of Empires II: Gold Edition   [89]   \n",
       "1      56951                    War and Order   [90]   \n",
       "2      12586                           Exolon   [88]   \n",
       "3       1934                        Red Baron   [87]   \n",
       "4      86920       Castles of Mad King Ludwig   [90]   \n",
       "...      ...                              ...    ...   \n",
       "1788    1022              The Legend of Zelda   [80]   \n",
       "1789  123468      Fun with Ragdolls: The Game   [80]   \n",
       "1790    6998                        Full Auto   [80]   \n",
       "1791   29552                  Nature Treks VR   [80]   \n",
       "1792  152354           Mario Party Superstars   [81]   \n",
       "\n",
       "                                                summary  \\\n",
       "0     [Age, of, Empires, II, Gold, Edition, unites, ...   \n",
       "1         [A, MMORPG, for, Mobile, and, Tablet, users.]   \n",
       "2     [Si, creías, haber, visto, todo, en, video-ave...   \n",
       "3     [Experience, the, thrill, of, flying, World, W...   \n",
       "4     [Castles, of, Mad, King, Ludwig,, a, castle-bu...   \n",
       "...                                                 ...   \n",
       "1788  [The, Legend, of, Zelda, is, the, first, title...   \n",
       "1789  [Become, a, ragdoll, and, create, your, own, e...   \n",
       "1790  [Full, Auto, gives, 'gun, it', a, whole, new, ...   \n",
       "1791  [NEW:, With, the, latest, updates,, you, are, ...   \n",
       "1792  [Calling, all, Superstars!, Mario, Party, is, ...   \n",
       "\n",
       "                                        genres  \\\n",
       "0     [Point-and-click, RealTimeStrategy(RTS)]   \n",
       "1                        [Simulator, Strategy]   \n",
       "2                          [Shooter, Platform]   \n",
       "3                         [Shooter, Simulator]   \n",
       "4                                [Strategy, 0]   \n",
       "...                                        ...   \n",
       "1788                            [Adventure, 0]   \n",
       "1789                        [Simulator, Indie]   \n",
       "1790                        [Fighting, Racing]   \n",
       "1791                        [Simulator, Indie]   \n",
       "1792                       [Card&BoardGame, 0]   \n",
       "\n",
       "                                                   tags  \n",
       "0     [89, Age, of, Empires, II, Gold, Edition, unit...  \n",
       "1     [90, A, MMORPG, for, Mobile, and, Tablet, user...  \n",
       "2     [88, Si, creías, haber, visto, todo, en, video...  \n",
       "3     [87, Experience, the, thrill, of, flying, Worl...  \n",
       "4     [90, Castles, of, Mad, King, Ludwig,, a, castl...  \n",
       "...                                                 ...  \n",
       "1788  [80, The, Legend, of, Zelda, is, the, first, t...  \n",
       "1789  [80, Become, a, ragdoll, and, create, your, ow...  \n",
       "1790  [80, Full, Auto, gives, 'gun, it', a, whole, n...  \n",
       "1791  [80, NEW:, With, the, latest, updates,, you, a...  \n",
       "1792  [81, Calling, all, Superstars!, Mario, Party, ...  \n",
       "\n",
       "[1508 rows x 6 columns]"
      ]
     },
     "execution_count": 21,
     "metadata": {},
     "output_type": "execute_result"
    }
   ],
   "source": [
    "games"
   ]
  },
  {
   "cell_type": "markdown",
   "id": "6b1d27bf-fc48-4689-99ff-378c88131378",
   "metadata": {},
   "source": [
    "## Creating a clean dataframe"
   ]
  },
  {
   "cell_type": "code",
   "execution_count": 22,
   "id": "3bf063a4-f0a2-4f31-b2f6-dc11b1075989",
   "metadata": {},
   "outputs": [],
   "source": [
    "new_df=games[['id','name','tags']]"
   ]
  },
  {
   "cell_type": "code",
   "execution_count": 23,
   "id": "daf078c8-a042-46ff-8b44-9e31374c623d",
   "metadata": {},
   "outputs": [
    {
     "data": {
      "text/html": [
       "<div>\n",
       "<style scoped>\n",
       "    .dataframe tbody tr th:only-of-type {\n",
       "        vertical-align: middle;\n",
       "    }\n",
       "\n",
       "    .dataframe tbody tr th {\n",
       "        vertical-align: top;\n",
       "    }\n",
       "\n",
       "    .dataframe thead th {\n",
       "        text-align: right;\n",
       "    }\n",
       "</style>\n",
       "<table border=\"1\" class=\"dataframe\">\n",
       "  <thead>\n",
       "    <tr style=\"text-align: right;\">\n",
       "      <th></th>\n",
       "      <th>id</th>\n",
       "      <th>name</th>\n",
       "      <th>tags</th>\n",
       "    </tr>\n",
       "  </thead>\n",
       "  <tbody>\n",
       "    <tr>\n",
       "      <th>0</th>\n",
       "      <td>129797</td>\n",
       "      <td>Age of Empires II: Gold Edition</td>\n",
       "      <td>[89, Age, of, Empires, II, Gold, Edition, unit...</td>\n",
       "    </tr>\n",
       "    <tr>\n",
       "      <th>1</th>\n",
       "      <td>56951</td>\n",
       "      <td>War and Order</td>\n",
       "      <td>[90, A, MMORPG, for, Mobile, and, Tablet, user...</td>\n",
       "    </tr>\n",
       "    <tr>\n",
       "      <th>2</th>\n",
       "      <td>12586</td>\n",
       "      <td>Exolon</td>\n",
       "      <td>[88, Si, creías, haber, visto, todo, en, video...</td>\n",
       "    </tr>\n",
       "    <tr>\n",
       "      <th>3</th>\n",
       "      <td>1934</td>\n",
       "      <td>Red Baron</td>\n",
       "      <td>[87, Experience, the, thrill, of, flying, Worl...</td>\n",
       "    </tr>\n",
       "    <tr>\n",
       "      <th>4</th>\n",
       "      <td>86920</td>\n",
       "      <td>Castles of Mad King Ludwig</td>\n",
       "      <td>[90, Castles, of, Mad, King, Ludwig,, a, castl...</td>\n",
       "    </tr>\n",
       "    <tr>\n",
       "      <th>...</th>\n",
       "      <td>...</td>\n",
       "      <td>...</td>\n",
       "      <td>...</td>\n",
       "    </tr>\n",
       "    <tr>\n",
       "      <th>1788</th>\n",
       "      <td>1022</td>\n",
       "      <td>The Legend of Zelda</td>\n",
       "      <td>[80, The, Legend, of, Zelda, is, the, first, t...</td>\n",
       "    </tr>\n",
       "    <tr>\n",
       "      <th>1789</th>\n",
       "      <td>123468</td>\n",
       "      <td>Fun with Ragdolls: The Game</td>\n",
       "      <td>[80, Become, a, ragdoll, and, create, your, ow...</td>\n",
       "    </tr>\n",
       "    <tr>\n",
       "      <th>1790</th>\n",
       "      <td>6998</td>\n",
       "      <td>Full Auto</td>\n",
       "      <td>[80, Full, Auto, gives, 'gun, it', a, whole, n...</td>\n",
       "    </tr>\n",
       "    <tr>\n",
       "      <th>1791</th>\n",
       "      <td>29552</td>\n",
       "      <td>Nature Treks VR</td>\n",
       "      <td>[80, NEW:, With, the, latest, updates,, you, a...</td>\n",
       "    </tr>\n",
       "    <tr>\n",
       "      <th>1792</th>\n",
       "      <td>152354</td>\n",
       "      <td>Mario Party Superstars</td>\n",
       "      <td>[81, Calling, all, Superstars!, Mario, Party, ...</td>\n",
       "    </tr>\n",
       "  </tbody>\n",
       "</table>\n",
       "<p>1508 rows × 3 columns</p>\n",
       "</div>"
      ],
      "text/plain": [
       "          id                             name  \\\n",
       "0     129797  Age of Empires II: Gold Edition   \n",
       "1      56951                    War and Order   \n",
       "2      12586                           Exolon   \n",
       "3       1934                        Red Baron   \n",
       "4      86920       Castles of Mad King Ludwig   \n",
       "...      ...                              ...   \n",
       "1788    1022              The Legend of Zelda   \n",
       "1789  123468      Fun with Ragdolls: The Game   \n",
       "1790    6998                        Full Auto   \n",
       "1791   29552                  Nature Treks VR   \n",
       "1792  152354           Mario Party Superstars   \n",
       "\n",
       "                                                   tags  \n",
       "0     [89, Age, of, Empires, II, Gold, Edition, unit...  \n",
       "1     [90, A, MMORPG, for, Mobile, and, Tablet, user...  \n",
       "2     [88, Si, creías, haber, visto, todo, en, video...  \n",
       "3     [87, Experience, the, thrill, of, flying, Worl...  \n",
       "4     [90, Castles, of, Mad, King, Ludwig,, a, castl...  \n",
       "...                                                 ...  \n",
       "1788  [80, The, Legend, of, Zelda, is, the, first, t...  \n",
       "1789  [80, Become, a, ragdoll, and, create, your, ow...  \n",
       "1790  [80, Full, Auto, gives, 'gun, it', a, whole, n...  \n",
       "1791  [80, NEW:, With, the, latest, updates,, you, a...  \n",
       "1792  [81, Calling, all, Superstars!, Mario, Party, ...  \n",
       "\n",
       "[1508 rows x 3 columns]"
      ]
     },
     "execution_count": 23,
     "metadata": {},
     "output_type": "execute_result"
    }
   ],
   "source": [
    "new_df"
   ]
  },
  {
   "cell_type": "code",
   "execution_count": 24,
   "id": "7f305194-daa8-4555-9533-de7b25e82f56",
   "metadata": {},
   "outputs": [
    {
     "name": "stderr",
     "output_type": "stream",
     "text": [
      "C:\\Users\\A\\AppData\\Local\\Temp\\ipykernel_15500\\487797088.py:1: SettingWithCopyWarning: \n",
      "A value is trying to be set on a copy of a slice from a DataFrame.\n",
      "Try using .loc[row_indexer,col_indexer] = value instead\n",
      "\n",
      "See the caveats in the documentation: https://pandas.pydata.org/pandas-docs/stable/user_guide/indexing.html#returning-a-view-versus-a-copy\n",
      "  new_df['tags']=new_df['tags'].apply(lambda x:\" \".join(x))\n"
     ]
    }
   ],
   "source": [
    "new_df['tags']=new_df['tags'].apply(lambda x:\" \".join(x))"
   ]
  },
  {
   "cell_type": "code",
   "execution_count": 25,
   "id": "97f93966-3cee-4032-a6e4-ce44bf8249c4",
   "metadata": {},
   "outputs": [
    {
     "data": {
      "text/html": [
       "<div>\n",
       "<style scoped>\n",
       "    .dataframe tbody tr th:only-of-type {\n",
       "        vertical-align: middle;\n",
       "    }\n",
       "\n",
       "    .dataframe tbody tr th {\n",
       "        vertical-align: top;\n",
       "    }\n",
       "\n",
       "    .dataframe thead th {\n",
       "        text-align: right;\n",
       "    }\n",
       "</style>\n",
       "<table border=\"1\" class=\"dataframe\">\n",
       "  <thead>\n",
       "    <tr style=\"text-align: right;\">\n",
       "      <th></th>\n",
       "      <th>id</th>\n",
       "      <th>name</th>\n",
       "      <th>tags</th>\n",
       "    </tr>\n",
       "  </thead>\n",
       "  <tbody>\n",
       "    <tr>\n",
       "      <th>0</th>\n",
       "      <td>129797</td>\n",
       "      <td>Age of Empires II: Gold Edition</td>\n",
       "      <td>89 Age of Empires II Gold Edition unites the e...</td>\n",
       "    </tr>\n",
       "    <tr>\n",
       "      <th>1</th>\n",
       "      <td>56951</td>\n",
       "      <td>War and Order</td>\n",
       "      <td>90 A MMORPG for Mobile and Tablet users. Simul...</td>\n",
       "    </tr>\n",
       "    <tr>\n",
       "      <th>2</th>\n",
       "      <td>12586</td>\n",
       "      <td>Exolon</td>\n",
       "      <td>88 Si creías haber visto todo en video-aventur...</td>\n",
       "    </tr>\n",
       "    <tr>\n",
       "      <th>3</th>\n",
       "      <td>1934</td>\n",
       "      <td>Red Baron</td>\n",
       "      <td>87 Experience the thrill of flying World War I...</td>\n",
       "    </tr>\n",
       "    <tr>\n",
       "      <th>4</th>\n",
       "      <td>86920</td>\n",
       "      <td>Castles of Mad King Ludwig</td>\n",
       "      <td>90 Castles of Mad King Ludwig, a castle-buildi...</td>\n",
       "    </tr>\n",
       "    <tr>\n",
       "      <th>...</th>\n",
       "      <td>...</td>\n",
       "      <td>...</td>\n",
       "      <td>...</td>\n",
       "    </tr>\n",
       "    <tr>\n",
       "      <th>1788</th>\n",
       "      <td>1022</td>\n",
       "      <td>The Legend of Zelda</td>\n",
       "      <td>80 The Legend of Zelda is the first title in t...</td>\n",
       "    </tr>\n",
       "    <tr>\n",
       "      <th>1789</th>\n",
       "      <td>123468</td>\n",
       "      <td>Fun with Ragdolls: The Game</td>\n",
       "      <td>80 Become a ragdoll and create your own enviro...</td>\n",
       "    </tr>\n",
       "    <tr>\n",
       "      <th>1790</th>\n",
       "      <td>6998</td>\n",
       "      <td>Full Auto</td>\n",
       "      <td>80 Full Auto gives 'gun it' a whole new meanin...</td>\n",
       "    </tr>\n",
       "    <tr>\n",
       "      <th>1791</th>\n",
       "      <td>29552</td>\n",
       "      <td>Nature Treks VR</td>\n",
       "      <td>80 NEW: With the latest updates, you are now f...</td>\n",
       "    </tr>\n",
       "    <tr>\n",
       "      <th>1792</th>\n",
       "      <td>152354</td>\n",
       "      <td>Mario Party Superstars</td>\n",
       "      <td>81 Calling all Superstars! Mario Party is back...</td>\n",
       "    </tr>\n",
       "  </tbody>\n",
       "</table>\n",
       "<p>1508 rows × 3 columns</p>\n",
       "</div>"
      ],
      "text/plain": [
       "          id                             name  \\\n",
       "0     129797  Age of Empires II: Gold Edition   \n",
       "1      56951                    War and Order   \n",
       "2      12586                           Exolon   \n",
       "3       1934                        Red Baron   \n",
       "4      86920       Castles of Mad King Ludwig   \n",
       "...      ...                              ...   \n",
       "1788    1022              The Legend of Zelda   \n",
       "1789  123468      Fun with Ragdolls: The Game   \n",
       "1790    6998                        Full Auto   \n",
       "1791   29552                  Nature Treks VR   \n",
       "1792  152354           Mario Party Superstars   \n",
       "\n",
       "                                                   tags  \n",
       "0     89 Age of Empires II Gold Edition unites the e...  \n",
       "1     90 A MMORPG for Mobile and Tablet users. Simul...  \n",
       "2     88 Si creías haber visto todo en video-aventur...  \n",
       "3     87 Experience the thrill of flying World War I...  \n",
       "4     90 Castles of Mad King Ludwig, a castle-buildi...  \n",
       "...                                                 ...  \n",
       "1788  80 The Legend of Zelda is the first title in t...  \n",
       "1789  80 Become a ragdoll and create your own enviro...  \n",
       "1790  80 Full Auto gives 'gun it' a whole new meanin...  \n",
       "1791  80 NEW: With the latest updates, you are now f...  \n",
       "1792  81 Calling all Superstars! Mario Party is back...  \n",
       "\n",
       "[1508 rows x 3 columns]"
      ]
     },
     "execution_count": 25,
     "metadata": {},
     "output_type": "execute_result"
    }
   ],
   "source": [
    "new_df"
   ]
  },
  {
   "cell_type": "markdown",
   "id": "a077ecab-f583-4636-abc1-2bdbbf5301f2",
   "metadata": {},
   "source": [
    "## converting all letters into lowercase"
   ]
  },
  {
   "cell_type": "code",
   "execution_count": 26,
   "id": "ce33eb35-ff33-42d7-9094-ebbcf938d01d",
   "metadata": {},
   "outputs": [
    {
     "name": "stderr",
     "output_type": "stream",
     "text": [
      "C:\\Users\\A\\AppData\\Local\\Temp\\ipykernel_15500\\4224080999.py:1: SettingWithCopyWarning: \n",
      "A value is trying to be set on a copy of a slice from a DataFrame.\n",
      "Try using .loc[row_indexer,col_indexer] = value instead\n",
      "\n",
      "See the caveats in the documentation: https://pandas.pydata.org/pandas-docs/stable/user_guide/indexing.html#returning-a-view-versus-a-copy\n",
      "  new_df['tags']=new_df['tags'].apply(lambda x:x.lower())\n"
     ]
    }
   ],
   "source": [
    "new_df['tags']=new_df['tags'].apply(lambda x:x.lower())"
   ]
  },
  {
   "cell_type": "code",
   "execution_count": 27,
   "id": "05c87c84-a15b-4f72-9729-2e396350e11c",
   "metadata": {},
   "outputs": [
    {
     "data": {
      "text/html": [
       "<div>\n",
       "<style scoped>\n",
       "    .dataframe tbody tr th:only-of-type {\n",
       "        vertical-align: middle;\n",
       "    }\n",
       "\n",
       "    .dataframe tbody tr th {\n",
       "        vertical-align: top;\n",
       "    }\n",
       "\n",
       "    .dataframe thead th {\n",
       "        text-align: right;\n",
       "    }\n",
       "</style>\n",
       "<table border=\"1\" class=\"dataframe\">\n",
       "  <thead>\n",
       "    <tr style=\"text-align: right;\">\n",
       "      <th></th>\n",
       "      <th>id</th>\n",
       "      <th>name</th>\n",
       "      <th>tags</th>\n",
       "    </tr>\n",
       "  </thead>\n",
       "  <tbody>\n",
       "    <tr>\n",
       "      <th>0</th>\n",
       "      <td>129797</td>\n",
       "      <td>Age of Empires II: Gold Edition</td>\n",
       "      <td>89 age of empires ii gold edition unites the e...</td>\n",
       "    </tr>\n",
       "    <tr>\n",
       "      <th>1</th>\n",
       "      <td>56951</td>\n",
       "      <td>War and Order</td>\n",
       "      <td>90 a mmorpg for mobile and tablet users. simul...</td>\n",
       "    </tr>\n",
       "    <tr>\n",
       "      <th>2</th>\n",
       "      <td>12586</td>\n",
       "      <td>Exolon</td>\n",
       "      <td>88 si creías haber visto todo en video-aventur...</td>\n",
       "    </tr>\n",
       "    <tr>\n",
       "      <th>3</th>\n",
       "      <td>1934</td>\n",
       "      <td>Red Baron</td>\n",
       "      <td>87 experience the thrill of flying world war i...</td>\n",
       "    </tr>\n",
       "    <tr>\n",
       "      <th>4</th>\n",
       "      <td>86920</td>\n",
       "      <td>Castles of Mad King Ludwig</td>\n",
       "      <td>90 castles of mad king ludwig, a castle-buildi...</td>\n",
       "    </tr>\n",
       "    <tr>\n",
       "      <th>...</th>\n",
       "      <td>...</td>\n",
       "      <td>...</td>\n",
       "      <td>...</td>\n",
       "    </tr>\n",
       "    <tr>\n",
       "      <th>1788</th>\n",
       "      <td>1022</td>\n",
       "      <td>The Legend of Zelda</td>\n",
       "      <td>80 the legend of zelda is the first title in t...</td>\n",
       "    </tr>\n",
       "    <tr>\n",
       "      <th>1789</th>\n",
       "      <td>123468</td>\n",
       "      <td>Fun with Ragdolls: The Game</td>\n",
       "      <td>80 become a ragdoll and create your own enviro...</td>\n",
       "    </tr>\n",
       "    <tr>\n",
       "      <th>1790</th>\n",
       "      <td>6998</td>\n",
       "      <td>Full Auto</td>\n",
       "      <td>80 full auto gives 'gun it' a whole new meanin...</td>\n",
       "    </tr>\n",
       "    <tr>\n",
       "      <th>1791</th>\n",
       "      <td>29552</td>\n",
       "      <td>Nature Treks VR</td>\n",
       "      <td>80 new: with the latest updates, you are now f...</td>\n",
       "    </tr>\n",
       "    <tr>\n",
       "      <th>1792</th>\n",
       "      <td>152354</td>\n",
       "      <td>Mario Party Superstars</td>\n",
       "      <td>81 calling all superstars! mario party is back...</td>\n",
       "    </tr>\n",
       "  </tbody>\n",
       "</table>\n",
       "<p>1508 rows × 3 columns</p>\n",
       "</div>"
      ],
      "text/plain": [
       "          id                             name  \\\n",
       "0     129797  Age of Empires II: Gold Edition   \n",
       "1      56951                    War and Order   \n",
       "2      12586                           Exolon   \n",
       "3       1934                        Red Baron   \n",
       "4      86920       Castles of Mad King Ludwig   \n",
       "...      ...                              ...   \n",
       "1788    1022              The Legend of Zelda   \n",
       "1789  123468      Fun with Ragdolls: The Game   \n",
       "1790    6998                        Full Auto   \n",
       "1791   29552                  Nature Treks VR   \n",
       "1792  152354           Mario Party Superstars   \n",
       "\n",
       "                                                   tags  \n",
       "0     89 age of empires ii gold edition unites the e...  \n",
       "1     90 a mmorpg for mobile and tablet users. simul...  \n",
       "2     88 si creías haber visto todo en video-aventur...  \n",
       "3     87 experience the thrill of flying world war i...  \n",
       "4     90 castles of mad king ludwig, a castle-buildi...  \n",
       "...                                                 ...  \n",
       "1788  80 the legend of zelda is the first title in t...  \n",
       "1789  80 become a ragdoll and create your own enviro...  \n",
       "1790  80 full auto gives 'gun it' a whole new meanin...  \n",
       "1791  80 new: with the latest updates, you are now f...  \n",
       "1792  81 calling all superstars! mario party is back...  \n",
       "\n",
       "[1508 rows x 3 columns]"
      ]
     },
     "execution_count": 27,
     "metadata": {},
     "output_type": "execute_result"
    }
   ],
   "source": [
    "new_df"
   ]
  },
  {
   "cell_type": "markdown",
   "id": "c03db790-b76c-41fc-8d1b-b0ab688c9735",
   "metadata": {},
   "source": [
    "# CountVectorizer\n",
    "- Getting all the frequencies for a slected fix of features removing stopwords"
   ]
  },
  {
   "cell_type": "code",
   "execution_count": 28,
   "id": "59dc8d31-a495-4f35-8e5d-d2f2efe3df35",
   "metadata": {},
   "outputs": [],
   "source": [
    "from sklearn.feature_extraction.text import CountVectorizer\n",
    "cv=CountVectorizer(max_features=5000,stop_words='english')"
   ]
  },
  {
   "cell_type": "code",
   "execution_count": 29,
   "id": "f5b733a0-96e7-4df4-a2f0-2ef33ed17535",
   "metadata": {},
   "outputs": [
    {
     "data": {
      "text/html": [
       "<style>#sk-container-id-1 {color: black;background-color: white;}#sk-container-id-1 pre{padding: 0;}#sk-container-id-1 div.sk-toggleable {background-color: white;}#sk-container-id-1 label.sk-toggleable__label {cursor: pointer;display: block;width: 100%;margin-bottom: 0;padding: 0.3em;box-sizing: border-box;text-align: center;}#sk-container-id-1 label.sk-toggleable__label-arrow:before {content: \"▸\";float: left;margin-right: 0.25em;color: #696969;}#sk-container-id-1 label.sk-toggleable__label-arrow:hover:before {color: black;}#sk-container-id-1 div.sk-estimator:hover label.sk-toggleable__label-arrow:before {color: black;}#sk-container-id-1 div.sk-toggleable__content {max-height: 0;max-width: 0;overflow: hidden;text-align: left;background-color: #f0f8ff;}#sk-container-id-1 div.sk-toggleable__content pre {margin: 0.2em;color: black;border-radius: 0.25em;background-color: #f0f8ff;}#sk-container-id-1 input.sk-toggleable__control:checked~div.sk-toggleable__content {max-height: 200px;max-width: 100%;overflow: auto;}#sk-container-id-1 input.sk-toggleable__control:checked~label.sk-toggleable__label-arrow:before {content: \"▾\";}#sk-container-id-1 div.sk-estimator input.sk-toggleable__control:checked~label.sk-toggleable__label {background-color: #d4ebff;}#sk-container-id-1 div.sk-label input.sk-toggleable__control:checked~label.sk-toggleable__label {background-color: #d4ebff;}#sk-container-id-1 input.sk-hidden--visually {border: 0;clip: rect(1px 1px 1px 1px);clip: rect(1px, 1px, 1px, 1px);height: 1px;margin: -1px;overflow: hidden;padding: 0;position: absolute;width: 1px;}#sk-container-id-1 div.sk-estimator {font-family: monospace;background-color: #f0f8ff;border: 1px dotted black;border-radius: 0.25em;box-sizing: border-box;margin-bottom: 0.5em;}#sk-container-id-1 div.sk-estimator:hover {background-color: #d4ebff;}#sk-container-id-1 div.sk-parallel-item::after {content: \"\";width: 100%;border-bottom: 1px solid gray;flex-grow: 1;}#sk-container-id-1 div.sk-label:hover label.sk-toggleable__label {background-color: #d4ebff;}#sk-container-id-1 div.sk-serial::before {content: \"\";position: absolute;border-left: 1px solid gray;box-sizing: border-box;top: 0;bottom: 0;left: 50%;z-index: 0;}#sk-container-id-1 div.sk-serial {display: flex;flex-direction: column;align-items: center;background-color: white;padding-right: 0.2em;padding-left: 0.2em;position: relative;}#sk-container-id-1 div.sk-item {position: relative;z-index: 1;}#sk-container-id-1 div.sk-parallel {display: flex;align-items: stretch;justify-content: center;background-color: white;position: relative;}#sk-container-id-1 div.sk-item::before, #sk-container-id-1 div.sk-parallel-item::before {content: \"\";position: absolute;border-left: 1px solid gray;box-sizing: border-box;top: 0;bottom: 0;left: 50%;z-index: -1;}#sk-container-id-1 div.sk-parallel-item {display: flex;flex-direction: column;z-index: 1;position: relative;background-color: white;}#sk-container-id-1 div.sk-parallel-item:first-child::after {align-self: flex-end;width: 50%;}#sk-container-id-1 div.sk-parallel-item:last-child::after {align-self: flex-start;width: 50%;}#sk-container-id-1 div.sk-parallel-item:only-child::after {width: 0;}#sk-container-id-1 div.sk-dashed-wrapped {border: 1px dashed gray;margin: 0 0.4em 0.5em 0.4em;box-sizing: border-box;padding-bottom: 0.4em;background-color: white;}#sk-container-id-1 div.sk-label label {font-family: monospace;font-weight: bold;display: inline-block;line-height: 1.2em;}#sk-container-id-1 div.sk-label-container {text-align: center;}#sk-container-id-1 div.sk-container {/* jupyter's `normalize.less` sets `[hidden] { display: none; }` but bootstrap.min.css set `[hidden] { display: none !important; }` so we also need the `!important` here to be able to override the default hidden behavior on the sphinx rendered scikit-learn.org. See: https://github.com/scikit-learn/scikit-learn/issues/21755 */display: inline-block !important;position: relative;}#sk-container-id-1 div.sk-text-repr-fallback {display: none;}</style><div id=\"sk-container-id-1\" class=\"sk-top-container\"><div class=\"sk-text-repr-fallback\"><pre>CountVectorizer(max_features=5000, stop_words=&#x27;english&#x27;)</pre><b>In a Jupyter environment, please rerun this cell to show the HTML representation or trust the notebook. <br />On GitHub, the HTML representation is unable to render, please try loading this page with nbviewer.org.</b></div><div class=\"sk-container\" hidden><div class=\"sk-item\"><div class=\"sk-estimator sk-toggleable\"><input class=\"sk-toggleable__control sk-hidden--visually\" id=\"sk-estimator-id-1\" type=\"checkbox\" checked><label for=\"sk-estimator-id-1\" class=\"sk-toggleable__label sk-toggleable__label-arrow\">CountVectorizer</label><div class=\"sk-toggleable__content\"><pre>CountVectorizer(max_features=5000, stop_words=&#x27;english&#x27;)</pre></div></div></div></div></div>"
      ],
      "text/plain": [
       "CountVectorizer(max_features=5000, stop_words='english')"
      ]
     },
     "execution_count": 29,
     "metadata": {},
     "output_type": "execute_result"
    }
   ],
   "source": [
    "cv"
   ]
  },
  {
   "cell_type": "markdown",
   "id": "b2cfb199-16f0-47ef-a95a-98dd1e351aec",
   "metadata": {},
   "source": [
    "## Converting from sparse matrix to a big array"
   ]
  },
  {
   "cell_type": "code",
   "execution_count": 30,
   "id": "7063eed3-cd9f-49f1-b4d4-c455c98f3e8d",
   "metadata": {},
   "outputs": [],
   "source": [
    "vectors=cv.fit_transform(new_df['tags']).toarray()"
   ]
  },
  {
   "cell_type": "code",
   "execution_count": 31,
   "id": "c802692d-8cb0-4141-b519-c09c5608ed2d",
   "metadata": {},
   "outputs": [
    {
     "data": {
      "text/plain": [
       "(1508, 5000)"
      ]
     },
     "execution_count": 31,
     "metadata": {},
     "output_type": "execute_result"
    }
   ],
   "source": [
    "vectors.shape"
   ]
  },
  {
   "cell_type": "markdown",
   "id": "e3646053-7162-4e2f-8d80-18bd19900828",
   "metadata": {},
   "source": [
    "## Process of STEMMING\n",
    " - reducing all the words to their bare forms loving->love"
   ]
  },
  {
   "cell_type": "code",
   "execution_count": 32,
   "id": "65858c57-059a-43ef-960f-151fb61f6bd3",
   "metadata": {},
   "outputs": [],
   "source": [
    "from nltk.stem.porter import PorterStemmer\n",
    "ps=PorterStemmer()"
   ]
  },
  {
   "cell_type": "code",
   "execution_count": 33,
   "id": "7a09ca64-fd1b-4844-9cc1-d970b0047507",
   "metadata": {},
   "outputs": [],
   "source": [
    "def stem(x):\n",
    "    L=[]\n",
    "    for i in x.split():\n",
    "        L.append(ps.stem(i))\n",
    "    return \" \".join(L)"
   ]
  },
  {
   "cell_type": "code",
   "execution_count": 34,
   "id": "c79cbbf7-2338-44ba-ae71-fba27201eec1",
   "metadata": {},
   "outputs": [
    {
     "name": "stderr",
     "output_type": "stream",
     "text": [
      "C:\\Users\\A\\AppData\\Local\\Temp\\ipykernel_15500\\3514595201.py:1: SettingWithCopyWarning: \n",
      "A value is trying to be set on a copy of a slice from a DataFrame.\n",
      "Try using .loc[row_indexer,col_indexer] = value instead\n",
      "\n",
      "See the caveats in the documentation: https://pandas.pydata.org/pandas-docs/stable/user_guide/indexing.html#returning-a-view-versus-a-copy\n",
      "  new_df['tags']=new_df['tags'].apply(stem)\n"
     ]
    }
   ],
   "source": [
    "new_df['tags']=new_df['tags'].apply(stem)"
   ]
  },
  {
   "cell_type": "code",
   "execution_count": 35,
   "id": "df687241-b839-4977-900d-5d72fb5679a3",
   "metadata": {},
   "outputs": [
    {
     "data": {
      "text/html": [
       "<div>\n",
       "<style scoped>\n",
       "    .dataframe tbody tr th:only-of-type {\n",
       "        vertical-align: middle;\n",
       "    }\n",
       "\n",
       "    .dataframe tbody tr th {\n",
       "        vertical-align: top;\n",
       "    }\n",
       "\n",
       "    .dataframe thead th {\n",
       "        text-align: right;\n",
       "    }\n",
       "</style>\n",
       "<table border=\"1\" class=\"dataframe\">\n",
       "  <thead>\n",
       "    <tr style=\"text-align: right;\">\n",
       "      <th></th>\n",
       "      <th>id</th>\n",
       "      <th>name</th>\n",
       "      <th>tags</th>\n",
       "    </tr>\n",
       "  </thead>\n",
       "  <tbody>\n",
       "    <tr>\n",
       "      <th>0</th>\n",
       "      <td>129797</td>\n",
       "      <td>Age of Empires II: Gold Edition</td>\n",
       "      <td>89 age of empir ii gold edit unit the excit ga...</td>\n",
       "    </tr>\n",
       "    <tr>\n",
       "      <th>1</th>\n",
       "      <td>56951</td>\n",
       "      <td>War and Order</td>\n",
       "      <td>90 a mmorpg for mobil and tablet users. simul ...</td>\n",
       "    </tr>\n",
       "    <tr>\n",
       "      <th>2</th>\n",
       "      <td>12586</td>\n",
       "      <td>Exolon</td>\n",
       "      <td>88 si creía haber visto todo en video-aventura...</td>\n",
       "    </tr>\n",
       "    <tr>\n",
       "      <th>3</th>\n",
       "      <td>1934</td>\n",
       "      <td>Red Baron</td>\n",
       "      <td>87 experi the thrill of fli world war i bi- an...</td>\n",
       "    </tr>\n",
       "    <tr>\n",
       "      <th>4</th>\n",
       "      <td>86920</td>\n",
       "      <td>Castles of Mad King Ludwig</td>\n",
       "      <td>90 castl of mad king ludwig, a castle-build bo...</td>\n",
       "    </tr>\n",
       "    <tr>\n",
       "      <th>...</th>\n",
       "      <td>...</td>\n",
       "      <td>...</td>\n",
       "      <td>...</td>\n",
       "    </tr>\n",
       "    <tr>\n",
       "      <th>1788</th>\n",
       "      <td>1022</td>\n",
       "      <td>The Legend of Zelda</td>\n",
       "      <td>80 the legend of zelda is the first titl in th...</td>\n",
       "    </tr>\n",
       "    <tr>\n",
       "      <th>1789</th>\n",
       "      <td>123468</td>\n",
       "      <td>Fun with Ragdolls: The Game</td>\n",
       "      <td>80 becom a ragdol and creat your own environ i...</td>\n",
       "    </tr>\n",
       "    <tr>\n",
       "      <th>1790</th>\n",
       "      <td>6998</td>\n",
       "      <td>Full Auto</td>\n",
       "      <td>80 full auto give 'gun it' a whole new meaning...</td>\n",
       "    </tr>\n",
       "    <tr>\n",
       "      <th>1791</th>\n",
       "      <td>29552</td>\n",
       "      <td>Nature Treks VR</td>\n",
       "      <td>80 new: with the latest updates, you are now f...</td>\n",
       "    </tr>\n",
       "    <tr>\n",
       "      <th>1792</th>\n",
       "      <td>152354</td>\n",
       "      <td>Mario Party Superstars</td>\n",
       "      <td>81 call all superstars! mario parti is back wi...</td>\n",
       "    </tr>\n",
       "  </tbody>\n",
       "</table>\n",
       "<p>1508 rows × 3 columns</p>\n",
       "</div>"
      ],
      "text/plain": [
       "          id                             name  \\\n",
       "0     129797  Age of Empires II: Gold Edition   \n",
       "1      56951                    War and Order   \n",
       "2      12586                           Exolon   \n",
       "3       1934                        Red Baron   \n",
       "4      86920       Castles of Mad King Ludwig   \n",
       "...      ...                              ...   \n",
       "1788    1022              The Legend of Zelda   \n",
       "1789  123468      Fun with Ragdolls: The Game   \n",
       "1790    6998                        Full Auto   \n",
       "1791   29552                  Nature Treks VR   \n",
       "1792  152354           Mario Party Superstars   \n",
       "\n",
       "                                                   tags  \n",
       "0     89 age of empir ii gold edit unit the excit ga...  \n",
       "1     90 a mmorpg for mobil and tablet users. simul ...  \n",
       "2     88 si creía haber visto todo en video-aventura...  \n",
       "3     87 experi the thrill of fli world war i bi- an...  \n",
       "4     90 castl of mad king ludwig, a castle-build bo...  \n",
       "...                                                 ...  \n",
       "1788  80 the legend of zelda is the first titl in th...  \n",
       "1789  80 becom a ragdol and creat your own environ i...  \n",
       "1790  80 full auto give 'gun it' a whole new meaning...  \n",
       "1791  80 new: with the latest updates, you are now f...  \n",
       "1792  81 call all superstars! mario parti is back wi...  \n",
       "\n",
       "[1508 rows x 3 columns]"
      ]
     },
     "execution_count": 35,
     "metadata": {},
     "output_type": "execute_result"
    }
   ],
   "source": [
    "new_df"
   ]
  },
  {
   "cell_type": "code",
   "execution_count": 36,
   "id": "8e56c01b-59ea-4959-8813-02479bb3d120",
   "metadata": {},
   "outputs": [
    {
     "data": {
      "text/plain": [
       "\"89 age of empir ii gold edit unit the excit game play of both microsoft age of empir ii: the age of king and age of empir ii: the conqueror expans - plu addit content - for one compel game experience. age of empir ii: the age of king span 1,000 years, from the fall of rome through the middl ages, in which player control the destini of one of thirteen civilizations. age of empir ii: the conqueror expans will challeng veteran and novic to wage war on an epic scale with all-new civilizations, uniqu unit and technologies, and campaign base on infam conqueror such as attila the hun, el cid and montezuma. age of empir 2 gold edit unit the excit game play of both age of empir 2: the age of king and age of empires2: the conqueror expans plu addit content for one compel game experience. experi real-tim evolut as you build your civil into a flourish empire, from the dark age to the imperi age. decid whether to conquer the world through militari might, commerc and diplomacy, or intrigu and regicide. there are mani path to power but onli one will reign supreme. age of empir 2: the age of king span 1,000 years, from the fall of rome through the middl ages. player control the destini of one of 13 civilizations. the game keep the epic scope of age of empires' gameplay while evolv the combat and econom features. develop by ensembl studios, age of empir 2featur the expertis of bruce shelley, co design of age of empir and the hit strategi game civilization. age of empir 2: the conqueror expans add five new civilizations, four new campaigns, 11 new units, 26 new technologies, real world maps, and much more. experi the adventur of the spanish conquistador as they enter the exot land of the aztecs, or reliv the destruct forc of attila' pillag huns. thi add-on pack focus on the armi and militari think of a hand of history' greatest tacticians, includ attila the hun, el cid, and montezuma. the new civil each have uniqu attributes, buildings, and technologies, such as chines rocketri and persian mahouts. you'll put hussar cavalry, kamikaz sieg units, and halberdi infantri into battl in four all-new campaigns. play up to eight other conqueror via modem, internet, or lan. point-and-click realtimestrategy(rts)\""
      ]
     },
     "execution_count": 36,
     "metadata": {},
     "output_type": "execute_result"
    }
   ],
   "source": [
    "new_df['tags'][0]"
   ]
  },
  {
   "cell_type": "code",
   "execution_count": 37,
   "id": "c7d9cbf5-280d-4e7e-88e8-1199465bb9bf",
   "metadata": {},
   "outputs": [],
   "source": [
    "vectors=cv.fit_transform(new_df['tags']).toarray()"
   ]
  },
  {
   "cell_type": "code",
   "execution_count": 38,
   "id": "671c8888-8f4f-427e-8084-127b2e5b1946",
   "metadata": {},
   "outputs": [
    {
     "data": {
      "text/plain": [
       "array([[2, 0, 0, ..., 0, 0, 0],\n",
       "       [0, 0, 0, ..., 0, 0, 0],\n",
       "       [0, 0, 0, ..., 0, 0, 0],\n",
       "       ...,\n",
       "       [0, 0, 0, ..., 0, 0, 0],\n",
       "       [0, 0, 0, ..., 0, 0, 0],\n",
       "       [0, 0, 0, ..., 0, 0, 0]], dtype=int64)"
      ]
     },
     "execution_count": 38,
     "metadata": {},
     "output_type": "execute_result"
    }
   ],
   "source": [
    "vectors"
   ]
  },
  {
   "cell_type": "code",
   "execution_count": 39,
   "id": "3d25c8d1-0e65-40d7-80aa-ad4446430e78",
   "metadata": {},
   "outputs": [],
   "source": [
    "from sklearn.metrics.pairwise import cosine_similarity\n",
    "similarity=cosine_similarity(vectors)"
   ]
  },
  {
   "cell_type": "code",
   "execution_count": 40,
   "id": "d1786af6-752c-46ec-8287-2c884219f58a",
   "metadata": {},
   "outputs": [
    {
     "data": {
      "text/plain": [
       "array([[1.        , 0.01349627, 0.06711829, ..., 0.0818168 , 0.06751007,\n",
       "        0.04285642],\n",
       "       [0.01349627, 1.        , 0.        , ..., 0.        , 0.05954913,\n",
       "        0.        ],\n",
       "       [0.06711829, 0.        , 1.        , ..., 0.03681051, 0.        ,\n",
       "        0.07362102],\n",
       "       ...,\n",
       "       [0.0818168 , 0.        , 0.03681051, ..., 1.        , 0.05157106,\n",
       "        0.08333333],\n",
       "       [0.06751007, 0.05954913, 0.        , ..., 0.05157106, 1.        ,\n",
       "        0.05157106],\n",
       "       [0.04285642, 0.        , 0.07362102, ..., 0.08333333, 0.05157106,\n",
       "        1.        ]])"
      ]
     },
     "execution_count": 40,
     "metadata": {},
     "output_type": "execute_result"
    }
   ],
   "source": [
    "similarity"
   ]
  },
  {
   "cell_type": "markdown",
   "id": "e952dd79-693b-48ea-95dc-a070166fbf0e",
   "metadata": {},
   "source": [
    "## Helper Functions\n",
    " - ### Enumerate_Composite:\n",
    "      - Inspiration taken from enumerate function\n",
    "      - Instead of taking all numerical index values\n",
    "      - We use the actual ids from igdb in a tuple form\n",
    " - ### Find_ID:\n",
    "      - takes in an index and a list\n",
    "      - returns the value in relation to the shared game"
   ]
  },
  {
   "cell_type": "code",
   "execution_count": 41,
   "id": "4b3d0fd6-e566-4e3e-9d4b-855fe6de758c",
   "metadata": {},
   "outputs": [],
   "source": [
    "def enumerate_composite(x):\n",
    "    L=[]\n",
    "    array=new_df['id'].to_numpy()\n",
    "    for i in range(0,len(x)):\n",
    "            tempList=[]\n",
    "            tempList.append(array[i])\n",
    "            tempList.append(x[i])\n",
    "        \n",
    "            L.append(tuple(tempList))\n",
    "            \n",
    "    return L\n",
    "\n",
    "def find_id(x,index):\n",
    "    for i in x:\n",
    "        if(i[0]==index):\n",
    "            return i\n",
    "        else:\n",
    "            continue\n",
    "             \n",
    "     "
   ]
  },
  {
   "cell_type": "markdown",
   "id": "dac10473-818d-4a03-b778-a9cf2cc5d795",
   "metadata": {},
   "source": [
    "- ## Main Function\n",
    "   - ## uses helper functions to generate recommendations"
   ]
  },
  {
   "cell_type": "code",
   "execution_count": 42,
   "id": "84804fc4-1fb4-44ca-a549-f3ea32bdf9f5",
   "metadata": {},
   "outputs": [],
   "source": [
    "def recommend(game):\n",
    "    game_index=new_df[new_df['name']==game].iloc[0]['id']\n",
    "    distances=find_id(enumerate_composite(similarity),game_index)\n",
    "    similar_list=sorted(enumerate_composite(distances[1]),reverse=True,key=lambda x:x[1])[1:19]\n",
    "    print(similar_list)\n",
    "    for i in similar_list:\n",
    "        print(new_df[new_df['id']==i[0]].iloc[0]['name'])\n",
    "        "
   ]
  },
  {
   "cell_type": "code",
   "execution_count": 43,
   "id": "945f7443-845c-40c1-9d95-cd8433e9a9f1",
   "metadata": {},
   "outputs": [
    {
     "name": "stdout",
     "output_type": "stream",
     "text": [
      "[(87423, 0.6123724356957945), (87404, 0.6123724356957945), (56288, 0.5604485383178051), (83424, 0.545544725589981), (87589, 0.50602431370499), (36749, 0.4900980294098035), (90801, 0.4762896722078403), (90982, 0.4663213712685439), (90417, 0.4629100498862758), (118193, 0.45291081365783836), (91316, 0.44961798699763555), (17764, 0.44444444444444453), (6279, 0.40824829046386313), (35978, 0.40824829046386313), (58242, 0.408248290463863), (89114, 0.39609128926382914), (22151, 0.38888888888888895), (81508, 0.3872983346207417)]\n",
      "2048 6x6\n",
      "2048 Tile!\n",
      "Family Guy: Another Freakin' Mobile Game\n",
      "Jigsaw Puzzles Epic\n",
      "The Hunt for the Lost Treasure\n",
      "Monument Valley 2\n",
      "Pavilion: Touch Edition\n",
      "Jigsaw Puzzle\n",
      "The Tower of Beatrice\n",
      "Toem\n",
      "Jigsaw Puzzle Pro\n",
      "Time Mysteries 3: The Final Enigma\n",
      "Device 6\n",
      "Unhack\n",
      "Perchang\n",
      "Magic Jigsaw Puzzles\n",
      "Chip's Challenge 2\n",
      "Snake 2\n"
     ]
    }
   ],
   "source": [
    "recommend('Kenshō')"
   ]
  },
  {
   "cell_type": "code",
   "execution_count": 44,
   "id": "31767302-072f-4a6c-8492-3f07c3bc1b34",
   "metadata": {},
   "outputs": [
    {
     "name": "stdout",
     "output_type": "stream",
     "text": [
      "[(81732, 0.50602431370499), (90417, 0.4324499820938683), (56288, 0.41137667560372115), (83424, 0.4077177531501004), (87423, 0.3813850356982369), (87404, 0.3813850356982369), (36749, 0.3597384670922507), (35978, 0.34960294939005054), (36051, 0.34815531191139565), (118193, 0.3437758254761643), (86929, 0.3337786686465955), (58242, 0.33371190623595726), (198499, 0.33028912953790823), (90982, 0.3267276256552635), (86787, 0.3236694374850748), (32411, 0.3209833376209784), (6279, 0.31782086308186414), (90801, 0.31782086308186414)]\n",
      "Kenshō\n",
      "The Tower of Beatrice\n",
      "Family Guy: Another Freakin' Mobile Game\n",
      "Jigsaw Puzzles Epic\n",
      "2048 6x6\n",
      "2048 Tile!\n",
      "Monument Valley 2\n",
      "Unhack\n",
      "The Sea Will Claim Everything\n",
      "Toem\n",
      "June's Journey\n",
      "Perchang\n",
      "Chants of Sennaar\n",
      "Jigsaw Puzzle\n",
      "Letter Soup\n",
      "Conan the mighty pig\n",
      "Device 6\n",
      "Pavilion: Touch Edition\n"
     ]
    }
   ],
   "source": [
    "recommend('The Hunt for the Lost Treasure')"
   ]
  },
  {
   "cell_type": "code",
   "execution_count": 45,
   "id": "a608a48f-ec43-4366-a011-fd8293a5a716",
   "metadata": {},
   "outputs": [
    {
     "ename": "TypeError",
     "evalue": "'type' object is not iterable",
     "output_type": "error",
     "traceback": [
      "\u001b[1;31m---------------------------------------------------------------------------\u001b[0m",
      "\u001b[1;31mTypeError\u001b[0m                                 Traceback (most recent call last)",
      "Cell \u001b[1;32mIn[45], line 1\u001b[0m\n\u001b[1;32m----> 1\u001b[0m \u001b[38;5;28;01mfor\u001b[39;00m i \u001b[38;5;129;01min\u001b[39;00m \u001b[38;5;28mlist\u001b[39m:\n\u001b[0;32m      2\u001b[0m     \u001b[38;5;28mprint\u001b[39m(new_df[new_df[\u001b[38;5;124m'\u001b[39m\u001b[38;5;124mid\u001b[39m\u001b[38;5;124m'\u001b[39m]\u001b[38;5;241m==\u001b[39mi[\u001b[38;5;241m0\u001b[39m]]\u001b[38;5;241m.\u001b[39miloc[\u001b[38;5;241m0\u001b[39m][\u001b[38;5;124m'\u001b[39m\u001b[38;5;124mname\u001b[39m\u001b[38;5;124m'\u001b[39m])\n",
      "\u001b[1;31mTypeError\u001b[0m: 'type' object is not iterable"
     ]
    }
   ],
   "source": [
    "for i in list:\n",
    "    print(new_df[new_df['id']==i[0]].iloc[0]['name'])"
   ]
  },
  {
   "cell_type": "code",
   "execution_count": 46,
   "id": "862553d5-6d4a-4881-bc37-92b9db17090d",
   "metadata": {},
   "outputs": [
    {
     "name": "stdout",
     "output_type": "stream",
     "text": [
      "[(57775, 0.3563483225498991), (85804, 0.3427248421989824), (1463, 0.3312862310652588), (21251, 0.32957374598969996), (18056, 0.309211219014639), (8110, 0.3015873015873015), (14986, 0.29966803229563055), (193, 0.29621739072356573), (4598, 0.2941986746023268), (3154, 0.29119023242275505), (85449, 0.28897381562100355), (1022, 0.2881766449557503), (19768, 0.2880092164423916), (81016, 0.28288947493050187), (216, 0.2817180849095055), (4832, 0.2807449625374385), (7173, 0.2805658588748473), (8246, 0.2798612629456048)]\n",
      "Bowling King\n",
      "Sunday Lawn\n",
      "Perfect Dark\n",
      "Retro Game Challenge\n",
      "Breath of Fire: Dragon Quarter\n",
      "Octodad\n",
      "Legend of Mana\n",
      "Day of the Tentacle\n",
      "Contra\n",
      "The Lord of the Rings: The Battle for Middle-earth\n",
      "Toki Tori 3D\n",
      "The Legend of Zelda\n",
      "The Punisher\n",
      "Just Jump\n",
      "Neverwinter Nights\n",
      "Endless Ocean\n",
      "Samurai Warriors 2\n",
      "Marvel vs. Capcom: Clash of Super Heroes\n"
     ]
    }
   ],
   "source": [
    "recommend(\"Marvel Spider-Man Unlimited\")\n"
   ]
  },
  {
   "cell_type": "code",
   "execution_count": 47,
   "id": "832ec44d-90b5-4ae0-abe5-ff6e4f967099",
   "metadata": {},
   "outputs": [
    {
     "name": "stdout",
     "output_type": "stream",
     "text": [
      "[(136811, 0.5868455973269637), (20196, 0.5346338310781814), (479, 0.5169320763568437), (21251, 0.4915222036236535), (4006, 0.4833637894954398), (216, 0.4218879211229186), (4598, 0.4155555715711096), (57775, 0.4140393356054125), (58386, 0.3947628940318596), (2140, 0.3887455346955542), (20208, 0.3851292185633046), (199418, 0.3720584147803398), (14986, 0.36994421388786203), (88645, 0.362030053499966), (1463, 0.3615913429822787), (288, 0.3588340908580242), (71976, 0.35856858280031806), (112949, 0.3578300267477955)]\n",
      "Metal Gear Solid HD Edition: 2 & 3\n",
      "Metal Gear Solid: The Legacy Collection\n",
      "Metal Gear Solid 3: Subsistence\n",
      "Retro Game Challenge\n",
      "Metal Gear Solid: The Twin Snakes\n",
      "Neverwinter Nights\n",
      "Contra\n",
      "Bowling King\n",
      "Dreaming Mary\n",
      "LittleBigPlanet 2\n",
      "Neo Contra\n",
      "Dedalium\n",
      "Legend of Mana\n",
      "Mega Man X\n",
      "Perfect Dark\n",
      "Operation Flashpoint: Cold War Crisis\n",
      "Mario's Picross\n",
      "Steel Sword Story\n"
     ]
    }
   ],
   "source": [
    "recommend('Metal Gear Solid')"
   ]
  },
  {
   "cell_type": "code",
   "execution_count": 48,
   "id": "e997d5d4-5146-4f09-96eb-c8e4f63215c9",
   "metadata": {},
   "outputs": [
    {
     "name": "stdout",
     "output_type": "stream",
     "text": [
      "[(49652, 0.3508565290134527), (14528, 0.3307907078519827), (1029, 0.31417075091854213), (78559, 0.3118724702341802), (193, 0.2909886095406223), (836, 0.2794899648783896), (80452, 0.27288841145490766), (4832, 0.27086448924394324), (11837, 0.27086448924394324), (1026, 0.2634012215523376), (21251, 0.26197327117587094), (8199, 0.2609312292213769), (81732, 0.2526455763199557), (17764, 0.2526455763199557), (194907, 0.24773936993814408), (117653, 0.24273401821882046), (35978, 0.2406649574603852), (4598, 0.24043316991025832)]\n",
      "Kamaitachi no Yoru Advance\n",
      "Serena\n",
      "The Legend of Zelda: Ocarina of Time\n",
      "Earthbound\n",
      "Day of the Tentacle\n",
      "Prince of Persia: The Sands of Time\n",
      "Pac-Man Collection\n",
      "Endless Ocean\n",
      "Treasure Adventure Game\n",
      "The Legend of Zelda: A Link to the Past\n",
      "Retro Game Challenge\n",
      "Space Invaders Extreme 2\n",
      "Kenshō\n",
      "Time Mysteries 3: The Final Enigma\n",
      "Big Time\n",
      "My Heart Grows Fonder\n",
      "Unhack\n",
      "Contra\n"
     ]
    }
   ],
   "source": [
    "recommend('Steins;Gate')\n"
   ]
  },
  {
   "cell_type": "code",
   "execution_count": 49,
   "id": "a73323cd-970b-4277-b940-90be635cf260",
   "metadata": {},
   "outputs": [
    {
     "name": "stdout",
     "output_type": "stream",
     "text": [
      "[(11328, 0.344669230642083), (6787, 0.33172563329389654), (50261, 0.3195980549086761), (41597, 0.31255935664237394), (25692, 0.3049533664072638), (14986, 0.2905850650889939), (8901, 0.2901524303462249), (58386, 0.28389613404443026), (87430, 0.28021499116196724), (12224, 0.276659312237701), (135400, 0.27289740901209514), (11837, 0.2722355554157594), (107182, 0.26626213096882495), (63520, 0.2612092593793357), (32411, 0.2566071597133535), (1921, 0.25630580064319), (5504, 0.25613675205891384), (85449, 0.25474090105633385)]\n",
      "Shadow Complex\n",
      "Double Dragon\n",
      "Angband\n",
      "The Elder Scrolls V: Skyrim Collector's Edition\n",
      "Circus Charlie\n",
      "Legend of Mana\n",
      "Badland\n",
      "Dreaming Mary\n",
      "Head Soccer\n",
      "Silk Worm\n",
      "Minecraft\n",
      "Treasure Adventure Game\n",
      "Vectronom\n",
      "The Delusions of Von Sottendorff and His Squared Mind\n",
      "Conan the mighty pig\n",
      "Black & White 2\n",
      "Transport Tycoon\n",
      "Toki Tori 3D\n"
     ]
    }
   ],
   "source": [
    "recommend('The Last of Us Part II')"
   ]
  },
  {
   "cell_type": "code",
   "execution_count": 50,
   "id": "c1673cd2-7050-4fdb-b56e-bd34cf1246ae",
   "metadata": {},
   "outputs": [
    {
     "name": "stdout",
     "output_type": "stream",
     "text": [
      "[(4832, 0.3959037912324479), (11328, 0.3920427375627313), (25358, 0.38781576749626434), (2909, 0.3815602643018762), (14986, 0.38033002666278654), (21183, 0.3713374748721996), (194907, 0.3621034121889506), (76122, 0.35564337957950964), (50261, 0.34261044898867493), (11837, 0.33651822254758074), (6787, 0.33180971565088174), (126745, 0.32907259085720875), (1346, 0.3266372899592439), (5611, 0.3254818219536805), (1209, 0.32439233352886726), (1022, 0.32082937646209087), (18090, 0.32024493467004), (107182, 0.317925392228937)]\n",
      "Endless Ocean\n",
      "Shadow Complex\n",
      "Deus Ex: Game of the Year Edition\n",
      "The Legend of Zelda: A Link Between Worlds\n",
      "Legend of Mana\n",
      "Magician's Quest: Mysterious Times\n",
      "Big Time\n",
      "Project 5: Sightseer\n",
      "Angband\n",
      "Treasure Adventure Game\n",
      "Double Dragon\n",
      "Chrono Ark\n",
      "Xenogears\n",
      "RuneScape\n",
      "Tales of Vesperia\n",
      "The Legend of Zelda\n",
      "Shakes and Fidget\n",
      "Vectronom\n"
     ]
    }
   ],
   "source": [
    "recommend(\"The Elder Scrolls V: Skyrim Collector's Edition\")"
   ]
  },
  {
   "cell_type": "code",
   "execution_count": 51,
   "id": "493915e4-d8bb-427b-a701-60991f19a55e",
   "metadata": {},
   "outputs": [
    {
     "name": "stdout",
     "output_type": "stream",
     "text": [
      "[(82818, 0.35233213170882205), (216, 0.34602283272391654), (25358, 0.3377830118332837), (232699, 0.3285514069160361), (81749, 0.32826608214930636), (21251, 0.3262583196932297), (86808, 0.3216337604513385), (14986, 0.31746039306049834), (41597, 0.3167230329859583), (18056, 0.3133280105427367), (199418, 0.31150100948372944), (86995, 0.30536723804765126), (18090, 0.29361010975735174), (288, 0.28887415229138963), (1209, 0.2825419403198024), (2909, 0.28198082307876626), (58406, 0.2807449625374385), (26974, 0.2785430072655778)]\n",
      "Kunoichi Botan\n",
      "Neverwinter Nights\n",
      "Deus Ex: Game of the Year Edition\n",
      "Granblue Fantasy Versus: Rising\n",
      "Papich - The Game Ep.1\n",
      "Retro Game Challenge\n",
      "Cheerleader Champion Dance Off\n",
      "Legend of Mana\n",
      "The Elder Scrolls V: Skyrim Collector's Edition\n",
      "Breath of Fire: Dragon Quarter\n",
      "Dedalium\n",
      "Block Craft 3D: City Building\n",
      "Shakes and Fidget\n",
      "Operation Flashpoint: Cold War Crisis\n",
      "Tales of Vesperia\n",
      "The Legend of Zelda: A Link Between Worlds\n",
      "Doomsday Clicker\n",
      "Heartbound\n"
     ]
    }
   ],
   "source": [
    "recommend(\"Fallout 3: Game of the Year Edition\")"
   ]
  },
  {
   "cell_type": "code",
   "execution_count": null,
   "id": "967f03f0-a9f0-456e-b56c-ecde236c4791",
   "metadata": {},
   "outputs": [],
   "source": []
  },
  {
   "cell_type": "code",
   "execution_count": null,
   "id": "427df330-e22c-4b47-8ef6-46dfcc0c251a",
   "metadata": {},
   "outputs": [],
   "source": [
    "recommend('Hollow Knight')"
   ]
  },
  {
   "cell_type": "code",
   "execution_count": 52,
   "id": "8d18d24e-097d-4eb3-a1d0-6b4b357c4666",
   "metadata": {},
   "outputs": [
    {
     "name": "stdout",
     "output_type": "stream",
     "text": [
      "[(6440, 0.5315619808967565), (14647, 0.5080423170216961), (42759, 0.43802033853911915), (7899, 0.364336027234119), (106012, 0.3105649968749708), (633, 0.3079981685341103), (12503, 0.30451562653473285), (149979, 0.30123203803835463), (774, 0.29235267310234303), (21078, 0.29223800250640314), (5042, 0.2720406517562239), (122556, 0.2666666666666666), (8175, 0.2645672665602538), (126265, 0.2581988897471611), (119947, 0.25425669046549126), (1209, 0.2518324521731248), (5911, 0.24744060267436274), (246, 0.24397501823713327)]\n",
      "Monster Hunter 4 Ultimate\n",
      "Bloodborne: The Old Hunters\n",
      "Monster Hunter Portable 3rd\n",
      "Neverwinter Nights: Shadows of Undrentide\n",
      "Dragon Quest Monsters: Joker 2 Professional\n",
      "Sid Meier's Civilization IV: Beyond the Sword\n",
      "The Witcher 3: Wild Hunt - Hearts of Stone\n",
      "The Legend of Zelda: Second Wind\n",
      "The Lord of the Rings Online: Mines of Moria\n",
      "Monster Tale\n",
      "King's Bounty: Armored Princess\n",
      "Celeste: Farewell\n",
      "Diablo: Hellfire\n",
      "Endless Memories\n",
      "NHL 20\n",
      "Tales of Vesperia\n",
      "MechAssault 2: Lone Wolf\n",
      "Diablo II: Lord of Destruction\n"
     ]
    }
   ],
   "source": [
    "recommend('Monster Hunter World: Iceborne Master Edition')"
   ]
  },
  {
   "cell_type": "code",
   "execution_count": 53,
   "id": "5a85c49d-87c2-4b97-b830-012d34a5e02b",
   "metadata": {},
   "outputs": [
    {
     "name": "stdout",
     "output_type": "stream",
     "text": [
      "[(141828, 0.4551495636817563), (11416, 0.3972360153788915), (82818, 0.3834824944236852), (54220, 0.37890538677040364), (90104, 0.3529411764705882), (99656, 0.3529411764705882), (86808, 0.35007002100700246), (11437, 0.3484854734952257), (81749, 0.34299717028501764), (6887, 0.34198686714702664), (9927, 0.3290725908572088), (4678, 0.3270349700838643), (112191, 0.3147557901458535), (26974, 0.30316953129541624), (2899, 0.2993924754260479), (113232, 0.29704426289300234), (9831, 0.2941176470588235), (141408, 0.2941176470588235)]\n",
      "Caves (Roguelike)\n",
      "Persona 3 Portable\n",
      "Kunoichi Botan\n",
      "Persona Q2: New Cinema Labyrinth\n",
      "Code of Princess EX\n",
      "Demon's Rise - War for the Deep\n",
      "Cheerleader Champion Dance Off\n",
      "Persona 3 FES\n",
      "Papich - The Game Ep.1\n",
      "Persona Q: Shadow of the Labyrinth\n",
      "Persona 5\n",
      "Arc Rise Fantasia\n",
      "Epic Seven\n",
      "Heartbound\n",
      "EarthBound\n",
      "Island of Virgins\n",
      "Warlords Battlecry\n",
      "Zaos\n"
     ]
    }
   ],
   "source": [
    "recommend('Persona 5 Royal')\n"
   ]
  },
  {
   "cell_type": "code",
   "execution_count": 54,
   "id": "e695f98a-3769-4dfb-bd99-b4c20ef0d020",
   "metadata": {},
   "outputs": [
    {
     "name": "stdout",
     "output_type": "stream",
     "text": [
      "[(7899, 0.3703280399090206), (8175, 0.36061860200659623), (13166, 0.3499271061118826), (633, 0.32769276820761617), (14647, 0.31557642080208587), (5042, 0.31282475480231), (118273, 0.30451562653473285), (149979, 0.2948459875572344), (774, 0.29275843689664865), (36099, 0.29095718698132317), (143232, 0.28306925853614895), (122556, 0.28109134757052257), (106012, 0.2749859704614352), (15472, 0.2694840278181478), (20655, 0.2660024896287021), (1880, 0.26371826842841334), (10047, 0.26118226463340216), (106586, 0.2571722499368198)]\n",
      "Neverwinter Nights: Shadows of Undrentide\n",
      "Diablo: Hellfire\n",
      "The Witcher 3: Wild Hunt - Blood and Wine\n",
      "Sid Meier's Civilization IV: Beyond the Sword\n",
      "Bloodborne: The Old Hunters\n",
      "King's Bounty: Armored Princess\n",
      "Monster Hunter World: Iceborne Master Edition\n",
      "The Legend of Zelda: Second Wind\n",
      "The Lord of the Rings Online: Mines of Moria\n",
      "An Assassin in Orlandes\n",
      "Final Fantasy XIV: Endwalker\n",
      "Celeste: Farewell\n",
      "Dragon Quest Monsters: Joker 2 Professional\n",
      "Fate: The Cursed King\n",
      "Final Fantasy VI Advance\n",
      "Baldur's Gate: Enhanced Edition\n",
      "BioShock Infinite: Burial at Sea - Episode 1\n",
      "Hentai University\n"
     ]
    }
   ],
   "source": [
    "recommend(\"The Witcher 3: Wild Hunt - Hearts of Stone\")"
   ]
  },
  {
   "cell_type": "code",
   "execution_count": 55,
   "id": "351b2d1e-5b54-466b-bae1-4b06cac87ee1",
   "metadata": {},
   "outputs": [
    {
     "data": {
      "text/html": [
       "<div>\n",
       "<style scoped>\n",
       "    .dataframe tbody tr th:only-of-type {\n",
       "        vertical-align: middle;\n",
       "    }\n",
       "\n",
       "    .dataframe tbody tr th {\n",
       "        vertical-align: top;\n",
       "    }\n",
       "\n",
       "    .dataframe thead th {\n",
       "        text-align: right;\n",
       "    }\n",
       "</style>\n",
       "<table border=\"1\" class=\"dataframe\">\n",
       "  <thead>\n",
       "    <tr style=\"text-align: right;\">\n",
       "      <th></th>\n",
       "      <th>id</th>\n",
       "      <th>name</th>\n",
       "      <th>tags</th>\n",
       "    </tr>\n",
       "  </thead>\n",
       "  <tbody>\n",
       "    <tr>\n",
       "      <th>0</th>\n",
       "      <td>129797</td>\n",
       "      <td>Age of Empires II: Gold Edition</td>\n",
       "      <td>89 age of empir ii gold edit unit the excit ga...</td>\n",
       "    </tr>\n",
       "    <tr>\n",
       "      <th>1</th>\n",
       "      <td>56951</td>\n",
       "      <td>War and Order</td>\n",
       "      <td>90 a mmorpg for mobil and tablet users. simul ...</td>\n",
       "    </tr>\n",
       "    <tr>\n",
       "      <th>2</th>\n",
       "      <td>12586</td>\n",
       "      <td>Exolon</td>\n",
       "      <td>88 si creía haber visto todo en video-aventura...</td>\n",
       "    </tr>\n",
       "    <tr>\n",
       "      <th>3</th>\n",
       "      <td>1934</td>\n",
       "      <td>Red Baron</td>\n",
       "      <td>87 experi the thrill of fli world war i bi- an...</td>\n",
       "    </tr>\n",
       "    <tr>\n",
       "      <th>4</th>\n",
       "      <td>86920</td>\n",
       "      <td>Castles of Mad King Ludwig</td>\n",
       "      <td>90 castl of mad king ludwig, a castle-build bo...</td>\n",
       "    </tr>\n",
       "    <tr>\n",
       "      <th>...</th>\n",
       "      <td>...</td>\n",
       "      <td>...</td>\n",
       "      <td>...</td>\n",
       "    </tr>\n",
       "    <tr>\n",
       "      <th>1788</th>\n",
       "      <td>1022</td>\n",
       "      <td>The Legend of Zelda</td>\n",
       "      <td>80 the legend of zelda is the first titl in th...</td>\n",
       "    </tr>\n",
       "    <tr>\n",
       "      <th>1789</th>\n",
       "      <td>123468</td>\n",
       "      <td>Fun with Ragdolls: The Game</td>\n",
       "      <td>80 becom a ragdol and creat your own environ i...</td>\n",
       "    </tr>\n",
       "    <tr>\n",
       "      <th>1790</th>\n",
       "      <td>6998</td>\n",
       "      <td>Full Auto</td>\n",
       "      <td>80 full auto give 'gun it' a whole new meaning...</td>\n",
       "    </tr>\n",
       "    <tr>\n",
       "      <th>1791</th>\n",
       "      <td>29552</td>\n",
       "      <td>Nature Treks VR</td>\n",
       "      <td>80 new: with the latest updates, you are now f...</td>\n",
       "    </tr>\n",
       "    <tr>\n",
       "      <th>1792</th>\n",
       "      <td>152354</td>\n",
       "      <td>Mario Party Superstars</td>\n",
       "      <td>81 call all superstars! mario parti is back wi...</td>\n",
       "    </tr>\n",
       "  </tbody>\n",
       "</table>\n",
       "<p>1508 rows × 3 columns</p>\n",
       "</div>"
      ],
      "text/plain": [
       "          id                             name  \\\n",
       "0     129797  Age of Empires II: Gold Edition   \n",
       "1      56951                    War and Order   \n",
       "2      12586                           Exolon   \n",
       "3       1934                        Red Baron   \n",
       "4      86920       Castles of Mad King Ludwig   \n",
       "...      ...                              ...   \n",
       "1788    1022              The Legend of Zelda   \n",
       "1789  123468      Fun with Ragdolls: The Game   \n",
       "1790    6998                        Full Auto   \n",
       "1791   29552                  Nature Treks VR   \n",
       "1792  152354           Mario Party Superstars   \n",
       "\n",
       "                                                   tags  \n",
       "0     89 age of empir ii gold edit unit the excit ga...  \n",
       "1     90 a mmorpg for mobil and tablet users. simul ...  \n",
       "2     88 si creía haber visto todo en video-aventura...  \n",
       "3     87 experi the thrill of fli world war i bi- an...  \n",
       "4     90 castl of mad king ludwig, a castle-build bo...  \n",
       "...                                                 ...  \n",
       "1788  80 the legend of zelda is the first titl in th...  \n",
       "1789  80 becom a ragdol and creat your own environ i...  \n",
       "1790  80 full auto give 'gun it' a whole new meaning...  \n",
       "1791  80 new: with the latest updates, you are now f...  \n",
       "1792  81 call all superstars! mario parti is back wi...  \n",
       "\n",
       "[1508 rows x 3 columns]"
      ]
     },
     "execution_count": 55,
     "metadata": {},
     "output_type": "execute_result"
    }
   ],
   "source": [
    "new_df"
   ]
  },
  {
   "cell_type": "code",
   "execution_count": null,
   "id": "6ca9975e-021b-4db6-919e-1bf92e69c386",
   "metadata": {},
   "outputs": [],
   "source": []
  }
 ],
 "metadata": {
  "kernelspec": {
   "display_name": "Python 3 (ipykernel)",
   "language": "python",
   "name": "python3"
  },
  "language_info": {
   "codemirror_mode": {
    "name": "ipython",
    "version": 3
   },
   "file_extension": ".py",
   "mimetype": "text/x-python",
   "name": "python",
   "nbconvert_exporter": "python",
   "pygments_lexer": "ipython3",
   "version": "3.11.7"
  }
 },
 "nbformat": 4,
 "nbformat_minor": 5
}
